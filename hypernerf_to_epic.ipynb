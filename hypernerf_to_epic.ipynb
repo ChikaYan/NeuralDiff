{
 "cells": [
  {
   "cell_type": "markdown",
   "metadata": {},
   "source": [
    "# Convert HyperNeRF Data to EPIC-Diff Style"
   ]
  },
  {
   "cell_type": "code",
   "execution_count": 15,
   "metadata": {},
   "outputs": [],
   "source": [
    "import numpy as np\n",
    "from pathlib import Path\n",
    "import json\n",
    "import imageio\n",
    "import shutil\n",
    "\n",
    "epic_dir = Path('data/EPIC-Diff/')\n",
    "hypernerf_dir = Path('/home/tw554/Neural-Scene-Flow-Fields/data/')\n",
    "# hypernerf_dir = Path('data/hypernerf/')\n",
    "scene_id = 'kubric_single_car_rand_v2'\n",
    "epic_data_dir = epic_dir / scene_id\n",
    "epic_rgb_dir = epic_data_dir / 'frames'\n",
    "epic_mask_dir = epic_data_dir / 'annotations'\n",
    "\n",
    "epic_rgb_dir.mkdir(exist_ok=True, parents=True)\n",
    "epic_mask_dir.mkdir(exist_ok=True, parents=True)\n",
    "\n",
    "root_dir = hypernerf_dir / scene_id\n",
    "img_scale = 2\n",
    "# Where to save RGB images.\n",
    "rgb_dir = root_dir / 'rgb' / f'{img_scale}x'\n",
    "# Where to save mask images.\n",
    "mask_dir = root_dir / 'mask' / f'{img_scale}x'\n",
    "camera_dir = root_dir / 'camera-gt'\n",
    "if not camera_dir.exists():\n",
    "    camera_dir = root_dir / 'camera'\n",
    "\n",
    "cam_list = sorted(list(camera_dir.glob('*')))\n",
    "\n",
    "with open(root_dir / 'dataset.json','r') as f:\n",
    "    dataset_data = json.load(f)\n",
    "with open(root_dir / 'metadata.json','r') as f:\n",
    "    time_data = json.load(f)\n",
    "\n",
    "if (root_dir / 'scene_gt.json').exists():\n",
    "    with open(root_dir / 'scene_gt.json','r') as f:\n",
    "        scene_data = json.load(f)\n",
    "else:\n",
    "    with open(root_dir / 'scene.json','r') as f:\n",
    "        scene_data = json.load(f)\n",
    "\n",
    "rgb_list = [rgb_dir / f'{idx}.png' for idx in dataset_data['ids']]\n",
    "if mask_dir.exists():\n",
    "    mask_list = [mask_dir / f'{idx}.png' for idx in dataset_data['ids']]\n",
    "else:\n",
    "    mask_list = []\n",
    "\n",
    "# mask_list = sorted(list(mask_dir.glob('*.png')))\n",
    "# rgb_list = sorted(list(rgb_dir.glob('*.png')))"
   ]
  },
  {
   "cell_type": "code",
   "execution_count": 16,
   "metadata": {},
   "outputs": [],
   "source": [
    "# copy all the images and masks\n",
    "for mask in mask_list:\n",
    "    # shutil.copy(str(mask), str(mask_dir))\n",
    "    img = imageio.imread(str(mask))\n",
    "    imageio.imsave(str(epic_mask_dir / f'{mask.stem}.bmp'), img)\n",
    "    \n",
    "\n",
    "for rgb in rgb_list:\n",
    "    # shutil.copy(str(rgb), str(rgb_dir))\n",
    "    img = imageio.imread(str(rgb))\n",
    "    imageio.imsave(str(epic_rgb_dir / f'{rgb.stem}.bmp'), img)\n",
    "\n",
    "image_size = [img.shape[1], img.shape[0]]\n"
   ]
  },
  {
   "cell_type": "code",
   "execution_count": 17,
   "metadata": {},
   "outputs": [
    {
     "name": "stdout",
     "output_type": "stream",
     "text": [
      "Num of imgs: 200\n",
      "Num of train: 200\n",
      "Num of val: 0\n",
      "Num of test: 200\n"
     ]
    }
   ],
   "source": [
    "# write meta\n",
    "meta = {}\n",
    "\n",
    "meta['ids_all'] = list(range(len(rgb_list)))\n",
    "meta['ids_train'] = [dataset_data['ids'].index(idx) for idx in dataset_data['train_ids']]\n",
    "# tes and val not used atm\n",
    "meta['ids_val'] = [dataset_data['ids'].index(idx) for idx in dataset_data['val_ids']]\n",
    "meta['ids_test'] = meta['ids_all']\n",
    "# meta['ids_val'] = meta['ids_train']\n",
    "# meta['ids_test'] = meta['ids_train']\n",
    "\n",
    "with open(cam_list[0],'r') as f:\n",
    "        cam_data = json.load(f)\n",
    "intrinsics = np.zeros([3,3])\n",
    "intrinsics[2,2] = 1\n",
    "intrinsics[0,0] = intrinsics[1,1] = cam_data['focal_length'] / img_scale\n",
    "intrinsics[0,2] = cam_data['principal_point'][0] / img_scale\n",
    "intrinsics[1,2] = cam_data['principal_point'][1] / img_scale\n",
    "meta['intrinsics'] = intrinsics.tolist()\n",
    "\n",
    "meta['images'] = {}\n",
    "meta['nears'] = {}\n",
    "meta['fars'] = {}\n",
    "meta['poses'] = {}\n",
    "\n",
    "for i in range(len(rgb_list)):\n",
    "    meta['images'][str(i)] = f'{rgb_list[i].stem}.bmp'\n",
    "    meta['nears'][str(i)] = scene_data['near'] / scene_data['scale']\n",
    "    meta['fars'][str(i)] = scene_data['far'] / scene_data['scale']\n",
    "\n",
    "    rgb_list[i].stem\n",
    "\n",
    "    with open(camera_dir / f'{rgb_list[i].stem}.json','r') as f:\n",
    "        cam_data = json.load(f)\n",
    "\n",
    "    c2w = np.zeros([3,4])\n",
    "    c2w[:3,:3] = np.array(cam_data['orientation']).T\n",
    "    c2w[:3,3] = cam_data['position']\n",
    "    meta['poses'][str(i)] = c2w.tolist()\n",
    "\n",
    "with open(epic_data_dir / 'meta.json', 'w') as f:\n",
    "    json.dump(meta, f, indent=2)\n",
    "\n",
    "print(f\"Num of imgs: {len(meta['ids_all'])}\")\n",
    "print(f\"Num of train: {len(meta['ids_train'])}\")\n",
    "print(f\"Num of val: {len(meta['ids_val'])}\")\n",
    "print(f\"Num of test: {len(meta['ids_test'])}\")\n",
    "\n"
   ]
  },
  {
   "cell_type": "code",
   "execution_count": 18,
   "metadata": {},
   "outputs": [
    {
     "data": {
      "text/plain": [
       "array([[280.,   0., 128.],\n",
       "       [  0., 280., 128.],\n",
       "       [  0.,   0.,   1.]])"
      ]
     },
     "execution_count": 18,
     "metadata": {},
     "output_type": "execute_result"
    }
   ],
   "source": [
    "intrinsics"
   ]
  }
 ],
 "metadata": {
  "interpreter": {
   "hash": "00f931ca992344ec12e040132e678e3ca9b469eb4099bd70a8248286abac962d"
  },
  "kernelspec": {
   "display_name": "Python 3.7.12 ('neuraldiff')",
   "language": "python",
   "name": "python3"
  },
  "language_info": {
   "codemirror_mode": {
    "name": "ipython",
    "version": 3
   },
   "file_extension": ".py",
   "mimetype": "text/x-python",
   "name": "python",
   "nbconvert_exporter": "python",
   "pygments_lexer": "ipython3",
   "version": "3.8.12"
  },
  "orig_nbformat": 4
 },
 "nbformat": 4,
 "nbformat_minor": 2
}
